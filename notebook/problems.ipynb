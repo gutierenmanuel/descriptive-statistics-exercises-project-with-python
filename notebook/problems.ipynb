{
    "cells": [
        {
            "cell_type": "markdown",
            "id": "ac622319",
            "metadata": {},
            "source": [
                "# Descriptive statistics problems"
            ]
        },
        {
            "cell_type": "markdown",
            "id": "aa8993e4",
            "metadata": {},
            "source": [
                "### Exercise 1"
            ]
        },
        {
            "cell_type": "markdown",
            "id": "5e0ab0d5",
            "metadata": {},
            "source": [
                "We will use Numpy to obtain information to describe statistically.\n",
                "\n",
                "- Generate an array of 100 elements following a normal distribution.\n",
                "- Generate an array of 100 elements following a chi-square distribution with 3 degrees of freedom.\n",
                "- Calculate the main metrics and statistical measures that best describe the two vectors."
            ]
        },
        {
            "cell_type": "code",
            "execution_count": 2,
            "id": "52f8efeb",
            "metadata": {},
            "outputs": [],
            "source": [
                "import numpy as np"
            ]
        },
        {
            "cell_type": "code",
            "execution_count": 3,
            "id": "34720ab6",
            "metadata": {},
            "outputs": [
                {
                    "data": {
                        "text/plain": [
                            "array([-0.3294653 ,  1.13607242,  1.02104932, -0.29252109,  0.83156286,\n",
                            "        0.19971154, -1.162317  , -0.02532192, -2.42819219,  1.9195166 ,\n",
                            "        1.35034749, -0.19514877, -1.57883157,  1.45809453,  2.42903895,\n",
                            "        1.46380396, -0.63768351,  2.02747602,  0.41451946, -0.40679748,\n",
                            "        2.15867382,  0.63253943, -0.08709828, -1.91050877,  1.41368978,\n",
                            "       -0.42777196,  0.85098228,  0.89085968,  0.06766449, -1.0534668 ,\n",
                            "        0.35252496, -0.36555006, -1.98660066,  0.63250151, -0.63174765,\n",
                            "        0.32007503,  0.85129164, -0.61696426,  1.82614254, -1.637461  ,\n",
                            "        0.94394671, -0.12404715,  0.60226529,  0.67329587, -0.44746087,\n",
                            "        0.26815931, -0.9134007 , -1.89618899, -2.46134417, -0.80423009,\n",
                            "       -0.50366243,  0.74621121,  0.67319752,  0.9922087 ,  1.63303726,\n",
                            "       -2.04464767, -0.25662352,  1.04773106,  2.06373555, -0.46340411,\n",
                            "       -1.00519735, -2.62221321,  1.83181731,  1.43273021, -0.11575881,\n",
                            "       -1.07566888,  1.13975077,  0.85712552, -0.33220563,  1.0685986 ,\n",
                            "        0.21407169, -0.7485197 ,  0.63644397, -0.43448201, -1.31890683,\n",
                            "       -0.6439501 , -0.53877334,  0.71190501, -0.03833369, -2.3115976 ,\n",
                            "        1.27875233, -0.47578908,  0.12769958, -0.18781388, -1.338366  ,\n",
                            "       -0.62096982, -0.21364371,  0.27997186,  0.79126645, -1.04023233,\n",
                            "       -0.92422543,  0.13095425,  2.0248069 ,  1.2883454 ,  2.26753362,\n",
                            "       -0.1573179 , -0.64516919, -0.68265393, -0.59488895, -1.21271143])"
                        ]
                    },
                    "execution_count": 3,
                    "metadata": {},
                    "output_type": "execute_result"
                }
            ],
            "source": [
                "#Normal distribution\n",
                "media = 0\n",
                "std_desviation = 1\n",
                "\n",
                "normal_distribution = np.random.normal(media, std_desviation, 100)\n",
                "normal_distribution"
            ]
        },
        {
            "cell_type": "code",
            "execution_count": 4,
            "id": "fbfa40cb",
            "metadata": {},
            "outputs": [
                {
                    "data": {
                        "text/plain": [
                            "array([2.10033668, 2.18407814, 0.29996721, 0.99661332, 0.8897974 ,\n",
                            "       3.5757764 , 0.38007519, 3.72163237, 1.88887482, 1.95071155,\n",
                            "       0.63846114, 0.73166861, 3.23870008, 4.02167259, 1.43774553,\n",
                            "       0.99385365, 4.61378086, 2.60819397, 2.32449767, 7.54988171,\n",
                            "       0.85179482, 0.91999669, 1.3981369 , 1.00187392, 5.07325981,\n",
                            "       4.15137614, 1.44216457, 2.01821395, 3.50864034, 2.24148973,\n",
                            "       0.5068534 , 1.74844817, 2.13010925, 3.55655705, 1.62116498,\n",
                            "       2.54839277, 2.48243259, 2.05589643, 3.57007284, 5.40733448,\n",
                            "       3.75365501, 0.5888277 , 1.20602946, 0.77776322, 0.65666716,\n",
                            "       1.21569619, 1.94675692, 4.03492106, 3.33408417, 0.21502942,\n",
                            "       0.85502709, 3.70937182, 3.428092  , 0.70564772, 2.20137079,\n",
                            "       2.87749009, 2.60701263, 2.93060306, 1.16926789, 1.31393187,\n",
                            "       2.47151949, 0.54328734, 3.91278153, 1.95922038, 1.87049888,\n",
                            "       6.75212402, 2.82543544, 7.34264874, 5.97083458, 0.96601415,\n",
                            "       0.41103007, 1.4301553 , 1.05441489, 0.92071034, 4.60769649,\n",
                            "       1.57444276, 2.38792865, 2.47470389, 1.97656778, 2.79492489,\n",
                            "       9.22212384, 7.512759  , 1.99379962, 5.6827057 , 3.90463937,\n",
                            "       1.31557533, 1.13777676, 4.47763072, 2.35404953, 0.66721636,\n",
                            "       7.70265926, 1.76528618, 0.4750531 , 4.59181709, 8.84164469,\n",
                            "       2.91415208, 6.61126374, 1.29599176, 2.72650087, 9.7120102 ])"
                        ]
                    },
                    "execution_count": 4,
                    "metadata": {},
                    "output_type": "execute_result"
                }
            ],
            "source": [
                "#Chi-Square distribution\n",
                "\n",
                "#Create de degree of fredom (df)\n",
                "df = 3\n",
                "\n",
                "chi_squared_values = np.random.chisquare(df, size=100)\n",
                "chi_squared_values\n"
            ]
        },
        {
            "cell_type": "markdown",
            "id": "8399b7ca",
            "metadata": {},
            "source": [
                "### Metricas estadísticas \n"
            ]
        },
        {
            "cell_type": "code",
            "execution_count": 10,
            "id": "8d20bd70",
            "metadata": {},
            "outputs": [
                {
                    "name": "stdout",
                    "output_type": "stream",
                    "text": [
                        "Media datos1: 0.0500585348512466\n",
                        "Varianza datos1: 1.346131772676703\n",
                        "Desviación estándar datos1: 1.1602291897192998\n",
                        "Rango datos1: 5.051252160705102\n",
                        "Percentil 25 datos1: -0.639250159701743\n",
                        "Mediana datos1: -0.06271598669827645\n",
                        "Percentil 75 datos1: 0.8655590604934531\n",
                        "\n",
                        "\n",
                        "Media datos2: 2.730593677961965\n",
                        "Varianza datos2: 4.459077316868815\n",
                        "Desviación estándar datos2: 2.1116527453321523\n",
                        "Rango datos2: 9.496980779044387\n",
                        "Percentil 25 datos2: 1.1613951049512221\n",
                        "Mediana datos2: 2.157093692873887\n",
                        "Percentil 75 datos2: 3.6091752529227765\n"
                    ]
                }
            ],
            "source": [
                "#Datos a comprobar\n",
                "datos1 = normal_distribution\n",
                "datos2 = chi_squared_values\n",
                "\n",
                "# Media (promedio) de los datos\n",
                "media_datos1 = np.mean(datos1)\n",
                "media_datos2 = np.mean(datos2)\n",
                "\n",
                "#Varianza de los datos\n",
                "varianza_datos1 = np.var(datos1)\n",
                "varianza_datos2 = np.var(datos2)\n",
                "\n",
                "# Desviación estándar de los datos\n",
                "desviacion_std_datos1 = np.std(datos1)\n",
                "desviacion_std_datos2 = np.std(datos2)\n",
                "\n",
                "# Rango de los datos\n",
                "rango_datos1 = np.ptp(datos1)  # ptp calcula el rango (max - min)\n",
                "rango_datos2 = np.ptp(datos2)\n",
                "\n",
                "# Percentil 25\n",
                "percentil_25_datos1 = np.percentile(datos1, 25)\n",
                "percentil_25_datos2 = np.percentile(datos2, 25)\n",
                "\n",
                "# Mediana de los datos\n",
                "mediana_datos1 = np.median(datos1)\n",
                "mediana_datos2 = np.median(datos2)\n",
                "\n",
                "#Percentil 75\n",
                "percentil_75_datos1 = np.percentile(datos1, 75)\n",
                "percentil_75_datos2 = np.percentile(datos2, 75)\n",
                "\n",
                "#-------\n",
                "\n",
                "print(\"Media datos1:\", media_datos1)\n",
                "print(\"Varianza datos1:\", varianza_datos1)\n",
                "print(\"Desviación estándar datos1:\", desviacion_std_datos1)\n",
                "print(\"Rango datos1:\", rango_datos1)\n",
                "print(\"Percentil 25 datos1:\", percentil_25_datos1)\n",
                "print(\"Mediana datos1:\", mediana_datos1)\n",
                "print(\"Percentil 75 datos1:\", percentil_75_datos1)\n",
                "\n",
                "print('\\n')\n",
                "\n",
                "print(\"Media datos2:\", media_datos2)\n",
                "print(\"Varianza datos2:\", varianza_datos2)\n",
                "print(\"Desviación estándar datos2:\", desviacion_std_datos2)\n",
                "print(\"Rango datos2:\", rango_datos2)\n",
                "print(\"Percentil 25 datos2:\", percentil_25_datos2)\n",
                "print(\"Mediana datos2:\", mediana_datos2)\n",
                "print(\"Percentil 75 datos2:\", percentil_75_datos2)\n",
                "\n",
                "\n"
            ]
        },
        {
            "cell_type": "markdown",
            "id": "46c70c3d",
            "metadata": {},
            "source": [
                "### Exercise 2\n",
                "\n",
                "Write a Python program to calculate the standard deviation of the following data:\n",
                "\n",
                "```py\n",
                "data = [4, 2, 5, 8, 6]\n",
                "```"
            ]
        },
        {
            "cell_type": "code",
            "execution_count": 23,
            "id": "d590308e",
            "metadata": {},
            "outputs": [
                {
                    "data": {
                        "text/plain": [
                            "2.23606797749979"
                        ]
                    },
                    "execution_count": 23,
                    "metadata": {},
                    "output_type": "execute_result"
                }
            ],
            "source": [
                "import math\n",
                "\n",
                "data = [4, 2, 5, 8, 6]\n",
                "\n",
                "def sample_std_deviation(data):\n",
                "    n = len(data)\n",
                "    if n < 2:\n",
                "        return None \n",
                "    \n",
                "    mean = sum(data) / n\n",
                "    variance = sum((x - mean) ** 2 for x in data) / (n - 1)\n",
                "    std_deviation = math.sqrt(variance)\n",
                "    \n",
                "    return std_deviation\n",
                "\n",
                "sample_std_deviation(data)"
            ]
        }
    ],
    "metadata": {
        "interpreter": {
            "hash": "9248718ffe6ce6938b217e69dbcc175ea21f4c6b28a317e96c05334edae734bb"
        },
        "kernelspec": {
            "display_name": "Python 3.9.12 ('ML-BOOTCAMP')",
            "language": "python",
            "name": "python3"
        },
        "language_info": {
            "codemirror_mode": {
                "name": "ipython",
                "version": 3
            },
            "file_extension": ".py",
            "mimetype": "text/x-python",
            "name": "python",
            "nbconvert_exporter": "python",
            "pygments_lexer": "ipython3",
            "version": "3.11.4"
        }
    },
    "nbformat": 4,
    "nbformat_minor": 5
}
